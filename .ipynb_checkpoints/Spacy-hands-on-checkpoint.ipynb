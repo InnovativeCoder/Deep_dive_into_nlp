{
 "cells": [
  {
   "cell_type": "markdown",
   "metadata": {},
   "source": [
    "## A basic tutorial of spacy module of NLP"
   ]
  },
  {
   "cell_type": "code",
   "execution_count": null,
   "metadata": {
    "collapsed": true
   },
   "outputs": [],
   "source": [
    "import numpy as np\n",
    "import pandas as pd\n",
    "import spacy"
   ]
  },
  {
   "cell_type": "code",
   "execution_count": null,
   "metadata": {},
   "outputs": [],
   "source": [
    "nlp = spacy.load(\"en\")"
   ]
  },
  {
   "cell_type": "code",
   "execution_count": null,
   "metadata": {
    "collapsed": true
   },
   "outputs": [],
   "source": [
    "text ='''Their long association with humans has led \n",
    "    dogs to be uniquely attuned to human behavior[17] and they \n",
    "    are able to thrive on a starch-rich diet that would be inadequate\n",
    "    for other canid species.[18] New research seems to show that dogs\n",
    "    have mutations to equivalent genetic regions in humans where \n",
    "    changes are known to trigger high sociability and somewhat \n",
    "    reduced intelligence.[19][20] Dogs vary widely in shape, size and\n",
    "    colors.[21] Dogs perform many roles for people, such as hunting,\n",
    "    herding, pulling loads, protection, assisting police and \n",
    "    military, companionship and, more recently, aiding handicapped \n",
    "    individuals and therapeutic roles. This influence on human \n",
    "    society has given them the sobriquet \"man's best friend\".'''\n",
    "#text for using topic mdelling"
   ]
  },
  {
   "cell_type": "code",
   "execution_count": null,
   "metadata": {
    "collapsed": true
   },
   "outputs": [],
   "source": [
    "doc = nlp(text)"
   ]
  },
  {
   "cell_type": "code",
   "execution_count": null,
   "metadata": {},
   "outputs": [
    {
     "name": "stdout",
     "output_type": "stream",
     "text": [
      "Their\n",
      "============================\n",
      "Their long association with humans has led \n",
      "    dogs to be uniquely attuned to human behavior[17] and they \n",
      "    are able to thrive on a starch-rich diet that would be inadequate\n",
      "    for other canid species.[18] New research seems to show that dogs\n",
      "    have mutations to equivalent genetic regions in humans where \n",
      "    changes are known to trigger high sociability and somewhat \n",
      "    reduced intelligence.[19][20]\n",
      "Dogs vary widely in shape, size and\n",
      "    colors.[21]\n",
      "Dogs perform many roles for people, such as hunting,\n",
      "    herding, pulling loads, protection, assisting police and \n",
      "    military, companionship and, more recently, aiding handicapped \n",
      "    individuals and therapeutic roles.\n",
      "This influence on human \n",
      "    society has given them the sobriquet \"man's best friend\".\n"
     ]
    }
   ],
   "source": [
    "token = doc[0]\n",
    "print(token)\n",
    "print('============================')\n",
    "for sents in doc.sents: # print sentences , one sentence per line \n",
    "    print(sents)\n"
   ]
  },
  {
   "cell_type": "code",
   "execution_count": null,
   "metadata": {},
   "outputs": [
    {
     "name": "stdout",
     "output_type": "stream",
     "text": [
      "Their - ADJ\n",
      "long - ADJ\n",
      "association - NOUN\n",
      "with - ADP\n",
      "humans - NOUN\n",
      "has - VERB\n",
      "led - VERB\n",
      "\n",
      "     - SPACE\n",
      "dogs - NOUN\n",
      "to - PART\n",
      "be - VERB\n",
      "uniquely - ADV\n",
      "attuned - VERB\n",
      "to - ADP\n",
      "human - ADJ\n",
      "behavior[17 - NOUN\n",
      "] - PUNCT\n",
      "and - CCONJ\n",
      "they - PRON\n",
      "\n",
      "     - SPACE\n",
      "are - VERB\n",
      "able - ADJ\n",
      "to - PART\n",
      "thrive - VERB\n",
      "on - ADP\n",
      "a - DET\n",
      "starch - NOUN\n",
      "- - PUNCT\n",
      "rich - ADJ\n",
      "diet - NOUN\n",
      "that - ADJ\n",
      "would - VERB\n",
      "be - VERB\n",
      "inadequate - ADJ\n",
      "\n",
      "     - SPACE\n",
      "for - ADP\n",
      "other - ADJ\n",
      "canid - NOUN\n",
      "species.[18 - NOUN\n",
      "] - PUNCT\n",
      "New - ADJ\n",
      "research - NOUN\n",
      "seems - VERB\n",
      "to - PART\n",
      "show - VERB\n",
      "that - ADP\n",
      "dogs - NOUN\n",
      "\n",
      "     - SPACE\n",
      "have - VERB\n",
      "mutations - NOUN\n",
      "to - PART\n",
      "equivalent - ADJ\n",
      "genetic - ADJ\n",
      "regions - NOUN\n",
      "in - ADP\n",
      "humans - NOUN\n",
      "where - ADV\n",
      "\n",
      "     - SPACE\n",
      "changes - NOUN\n",
      "are - VERB\n",
      "known - VERB\n",
      "to - PART\n",
      "trigger - VERB\n",
      "high - ADJ\n",
      "sociability - NOUN\n",
      "and - CCONJ\n",
      "somewhat - ADV\n",
      "\n",
      "     - SPACE\n",
      "reduced - VERB\n",
      "intelligence.[19][20 - NOUN\n",
      "] - PUNCT\n",
      "Dogs - PROPN\n",
      "vary - VERB\n",
      "widely - ADV\n",
      "in - ADP\n",
      "shape - NOUN\n",
      ", - PUNCT\n",
      "size - NOUN\n",
      "and - CCONJ\n",
      "\n",
      "     - SPACE\n",
      "colors.[21 - PUNCT\n",
      "] - PUNCT\n",
      "Dogs - NOUN\n",
      "perform - VERB\n",
      "many - ADJ\n",
      "roles - NOUN\n",
      "for - ADP\n",
      "people - NOUN\n",
      ", - PUNCT\n",
      "such - ADJ\n",
      "as - ADP\n",
      "hunting - NOUN\n",
      ", - PUNCT\n",
      "\n",
      "     - SPACE\n",
      "herding - VERB\n",
      ", - PUNCT\n",
      "pulling - VERB\n",
      "loads - NOUN\n",
      ", - PUNCT\n",
      "protection - NOUN\n",
      ", - PUNCT\n",
      "assisting - VERB\n",
      "police - NOUN\n",
      "and - CCONJ\n",
      "\n",
      "     - SPACE\n",
      "military - NOUN\n",
      ", - PUNCT\n",
      "companionship - NOUN\n",
      "and - CCONJ\n",
      ", - PUNCT\n",
      "more - ADV\n",
      "recently - ADV\n",
      ", - PUNCT\n",
      "aiding - VERB\n",
      "handicapped - ADJ\n",
      "\n",
      "     - SPACE\n",
      "individuals - NOUN\n",
      "and - CCONJ\n",
      "therapeutic - ADJ\n",
      "roles - NOUN\n",
      ". - PUNCT\n",
      "This - DET\n",
      "influence - NOUN\n",
      "on - ADP\n",
      "human - ADJ\n",
      "\n",
      "     - SPACE\n",
      "society - NOUN\n",
      "has - VERB\n",
      "given - VERB\n",
      "them - PRON\n",
      "the - DET\n",
      "sobriquet - ADJ\n",
      "\" - PUNCT\n",
      "man - NOUN\n",
      "'s - PART\n",
      "best - ADJ\n",
      "friend - NOUN\n",
      "\" - PUNCT\n",
      ". - PUNCT\n"
     ]
    }
   ],
   "source": [
    "# For each token, print corresponding part of speech tag\n",
    "for token in doc:\n",
    "    print('{} - {}'.format(token, token.pos_))\n"
   ]
  },
  {
   "cell_type": "code",
   "execution_count": null,
   "metadata": {
    "scrolled": true
   },
   "outputs": [],
   "source": [
    "%%time\n",
    "# Write a function that walks up the syntactic tree of the given token and collects all tokens to the root token (including root token).\n",
    "\n",
    "def tokens_to_root(token):\n",
    "    \"\"\"\n",
    "    Walk up the syntactic tree, collecting tokens to the root of the given `token`.\n",
    "    :param token: Spacy token\n",
    "    :return: list of Spacy tokens\n",
    "    \"\"\"\n",
    "    tokens_to_r = []\n",
    "    while token.head is not token:\n",
    "        tokens_to_r.append(token)\n",
    "        token = token.head\n",
    "        tokens_to_r.append(token)\n",
    "\n",
    "    return tokens_to_r\n"
   ]
  },
  {
   "cell_type": "code",
   "execution_count": null,
   "metadata": {
    "collapsed": true
   },
   "outputs": [],
   "source": []
  }
 ],
 "metadata": {
  "kernelspec": {
   "display_name": "Python 3",
   "language": "python",
   "name": "python3"
  },
  "language_info": {
   "codemirror_mode": {
    "name": "ipython",
    "version": 3
   },
   "file_extension": ".py",
   "mimetype": "text/x-python",
   "name": "python",
   "nbconvert_exporter": "python",
   "pygments_lexer": "ipython3",
   "version": "3.6.1"
  }
 },
 "nbformat": 4,
 "nbformat_minor": 2
}
